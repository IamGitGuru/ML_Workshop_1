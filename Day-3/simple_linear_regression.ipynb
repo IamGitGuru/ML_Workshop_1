{
 "cells": [
  {
   "cell_type": "markdown",
   "metadata": {},
   "source": [
    "# Implementation of cost function in a model with real world Data"
   ]
  },
  {
   "cell_type": "markdown",
   "metadata": {},
   "source": [
    "### Problem Defination\n",
    "we have a data of various vehicls of a town with same milege. where fuel consumed by a vehicle and distance covered by it were measured. now lets take the data and  try to predict the distance traveled by the vehicle based on amount of fuel consumed.\n",
    "\n",
    "at first lets import necessary modules"
   ]
  },
  {
   "cell_type": "code",
   "execution_count": 78,
   "metadata": {},
   "outputs": [],
   "source": [
    "import numpy as np\n",
    "import pandas as pd\n",
    "import matplotlib.pyplot as plt"
   ]
  },
  {
   "cell_type": "markdown",
   "metadata": {},
   "source": [
    "now we have all the necessary modules. Lets start by importing the data. "
   ]
  },
  {
   "cell_type": "code",
   "execution_count": null,
   "metadata": {},
   "outputs": [],
   "source": [
    "data = pd.read_csv(\"./../data/slReg/fuleconsumedxdistance.csv\")\n",
    "data.head()"
   ]
  },
  {
   "cell_type": "code",
   "execution_count": null,
   "metadata": {},
   "outputs": [],
   "source": [
    "X = data[\"Fuel_Consumed_Liters\"]\n",
    "y = data[\"Distance_Traveled_km\"]\n",
    "X.shape"
   ]
  },
  {
   "cell_type": "markdown",
   "metadata": {},
   "source": [
    "### Ploting the data"
   ]
  },
  {
   "cell_type": "code",
   "execution_count": null,
   "metadata": {},
   "outputs": [],
   "source": [
    "data.plot(kind=\"scatter\", x=\"Fuel_Consumed_Liters\",y=\"Distance_Traveled_km\", color = \"blue\")\n",
    "plt.show()"
   ]
  },
  {
   "cell_type": "markdown",
   "metadata": {},
   "source": [
    "### Cost function :\n",
    "\n",
    "The equation for cost with one variable is:\n",
    "  $$J(w,b) = \\frac{1}{2m} \\sum\\limits_{i = 0}^{m-1} (f_{w,b}(x^{(i)}) - y^{(i)})^2 \\tag{1}$$ \n",
    " \n",
    "where \n",
    "  $$f_{w,b}(x^{(i)}) = wx^{(i)} + b \\tag{2}$$\n",
    "\n",
    "***pseudo code :***\n",
    "```\n",
    "m = number of training examples  \n",
    "total_cost = 0  \n",
    "iterate {  \n",
    "  f_wb = w * x_i + b  \n",
    "  cost = (f_wb - y_i)**2  \n",
    "  total_cost += cost  \n",
    "}  \n",
    "return total_cost  \n",
    "```\n"
   ]
  },
  {
   "cell_type": "code",
   "execution_count": 82,
   "metadata": {},
   "outputs": [],
   "source": [
    "def compute_cost(X,y,w,b):\n",
    "    m = X.shape[0]\n",
    "    total_cost = 0\n",
    "    #your code starts here\n",
    "\n",
    "    #your code ends here\n",
    "    return total_cost;"
   ]
  },
  {
   "cell_type": "markdown",
   "metadata": {},
   "source": [
    "using gradient descent"
   ]
  },
  {
   "cell_type": "code",
   "execution_count": 83,
   "metadata": {},
   "outputs": [],
   "source": [
    "\n",
    "def gradient_descent(X, y, w, b, learning_rate, iterations, cost_function):\n",
    "    m = X.shape[0]\n",
    "    cost_history = []\n",
    "\n",
    "    for i in range(iterations):\n",
    "        predictions = w * X + b\n",
    "\n",
    "        dw = (1 / m) * np.sum((predictions - y) * X)\n",
    "        db = (1 / m) * np.sum(predictions - y)\n",
    "\n",
    "        w -= learning_rate * dw\n",
    "        b -= learning_rate * db\n",
    "\n",
    "        cost = cost_function(X, y, w, b)\n",
    "        cost_history.append(cost)\n",
    "\n",
    "        if i % 500 == 0:\n",
    "            print(f\"Iteration {i}: Cost {cost:.4f}, w {w:.4f}, b {b:.4f}\")\n",
    "\n",
    "    return w, b, cost_history"
   ]
  },
  {
   "cell_type": "markdown",
   "metadata": {},
   "source": [
    "splitting the dataset using trining set and test set"
   ]
  },
  {
   "cell_type": "code",
   "execution_count": 84,
   "metadata": {},
   "outputs": [],
   "source": [
    "from sklearn.model_selection import train_test_split\n",
    "x_train,x_test,y_train,y_test = train_test_split(X,y,test_size=0.2,random_state=45)"
   ]
  },
  {
   "cell_type": "markdown",
   "metadata": {},
   "source": [
    "training the model"
   ]
  },
  {
   "cell_type": "code",
   "execution_count": null,
   "metadata": {},
   "outputs": [],
   "source": [
    "# initialize parameters\n",
    "w_init = 0\n",
    "b_init = 0\n",
    "# some gradient descent settings\n",
    "iterations = 20000\n",
    "tmp_alpha = 0.001\n",
    "\n",
    "w_final, b_final, J_hist = gradient_descent(x_train ,y_train, w_init, b_init, tmp_alpha, iterations, compute_cost)\n",
    "print(f\"(w,b) found by gradient descent: ({w_final:8.4f},{b_final:8.4f})\")"
   ]
  },
  {
   "cell_type": "markdown",
   "metadata": {},
   "source": [
    "plotting the cost x iteration"
   ]
  },
  {
   "cell_type": "code",
   "execution_count": null,
   "metadata": {},
   "outputs": [],
   "source": [
    "x_ = np.linspace(1,len(J_hist))\n",
    "plt.plot(x_,J_hist)\n",
    "plt.title(\"Cost over iteration\")\n",
    "plt.show()"
   ]
  },
  {
   "cell_type": "markdown",
   "metadata": {},
   "source": [
    "plotting the data and our regression line with training and test set"
   ]
  },
  {
   "cell_type": "code",
   "execution_count": null,
   "metadata": {},
   "outputs": [],
   "source": [
    "x_line = np.linspace(min(X),max(X),100)\n",
    "y_line = w_final * x_line + b_final\n",
    "plt.scatter(x_train,y_train,color = \"blue\")\n",
    "plt.plot(x_line,y_line,color = \"red\")\n",
    "plt.title(\"Plotting regression line in training set\")\n",
    "# plt.xlabel(\"Fuel consumed in litre\")\n",
    "# plt.ylabel(\"Distance traveled in km\")\n",
    "plt.show()"
   ]
  },
  {
   "cell_type": "code",
   "execution_count": null,
   "metadata": {},
   "outputs": [],
   "source": [
    "plt.scatter(x_train,y_train,color = \"orange\")\n",
    "plt.plot(x_line,y_line,color = \"green\")\n",
    "plt.title(\"Plotting regression line in test set\")\n",
    "plt.show()"
   ]
  },
  {
   "cell_type": "code",
   "execution_count": 64,
   "metadata": {},
   "outputs": [],
   "source": [
    "from sklearn.metrics import mean_absolute_error,mean_squared_error,r2_score"
   ]
  },
  {
   "cell_type": "markdown",
   "metadata": {},
   "source": [
    "evaluation of the model"
   ]
  },
  {
   "cell_type": "code",
   "execution_count": null,
   "metadata": {},
   "outputs": [],
   "source": [
    "y_pred = w_final * x_test + b_final\n",
    "mae = mean_absolute_error(y_test,y_pred)\n",
    "mse = mean_squared_error(y_test,y_pred)\n",
    "rmse = np.sqrt(mse)\n",
    "r2 = r2_score(y_test, y_pred)\n",
    "# Print results\n",
    "print(f\"Mean Absolute Error (MAE): {mae:.2f}\")\n",
    "print(f\"Mean Squared Error (MSE): {mse:.2f}\")\n",
    "print(f\"Root Mean Squared Error (RMSE): {rmse:.2f}\")\n",
    "print(f\"R^2 Score: {r2:.2f}\")\n"
   ]
  }
 ],
 "metadata": {
  "kernelspec": {
   "display_name": "Python 3",
   "language": "python",
   "name": "python3"
  },
  "language_info": {
   "codemirror_mode": {
    "name": "ipython",
    "version": 3
   },
   "file_extension": ".py",
   "mimetype": "text/x-python",
   "name": "python",
   "nbconvert_exporter": "python",
   "pygments_lexer": "ipython3",
   "version": "3.13.1"
  }
 },
 "nbformat": 4,
 "nbformat_minor": 2
}
