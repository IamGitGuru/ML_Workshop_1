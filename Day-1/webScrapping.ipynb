{
  "cells": [
    {
      "cell_type": "markdown",
      "metadata": {
        "id": "NXb_drURqhdp"
      },
      "source": [
        "# **Practice Lab : Let's scrap data from wikipedia**"
      ]
    },
    {
      "cell_type": "code",
      "execution_count": 1,
      "metadata": {
        "id": "JTyRas7b2r3n"
      },
      "outputs": [],
      "source": [
        "from bs4 import BeautifulSoup # for parsing HTML data\n",
        "import requests # send HTTP requests"
      ]
    },
    {
      "cell_type": "code",
      "execution_count": 2,
      "metadata": {
        "id": "z1HXXjid2uln"
      },
      "outputs": [],
      "source": [
        "url = 'https://en.wikipedia.org/wiki/Nepal'"
      ]
    },
    {
      "cell_type": "code",
      "execution_count": 3,
      "metadata": {
        "id": "1tlC-e5E2v0m"
      },
      "outputs": [],
      "source": [
        "page = requests.get(url)\n",
        "\n",
        "soup = BeautifulSoup(page.text, 'html')"
      ]
    },
    {
      "cell_type": "code",
      "execution_count": 4,
      "metadata": {
        "id": "NlFWGbMS2xSI"
      },
      "outputs": [
        {
          "name": "stdout",
          "output_type": "stream",
          "text": [
            "Page fetched successfully!\n"
          ]
        }
      ],
      "source": [
        "if page.status_code == 200:\n",
        "    print(\"Page fetched successfully!\")\n",
        "else:\n",
        "    print(f\"Failed to fetch page: {page.status_code}\")"
      ]
    },
    {
      "cell_type": "code",
      "execution_count": 5,
      "metadata": {
        "id": "ffxxlZ4-ipNJ"
      },
      "outputs": [],
      "source": [
        "# Display the soup value"
      ]
    },
    {
      "cell_type": "code",
      "execution_count": 6,
      "metadata": {
        "id": "7ilvjOxbjasK"
      },
      "outputs": [],
      "source": [
        "# Display any text of HTML\n",
        "# use find and findall"
      ]
    },
    {
      "cell_type": "code",
      "execution_count": 7,
      "metadata": {
        "id": "eG3jhqM5kbFu"
      },
      "outputs": [],
      "source": [
        "# display 'p' tag using find_all and use strip to remove unwanted space"
      ]
    },
    {
      "cell_type": "code",
      "execution_count": 8,
      "metadata": {
        "id": "7pdPFrEbkgNd"
      },
      "outputs": [],
      "source": [
        "# target all table tag and target our desired table (using class attribute)"
      ]
    },
    {
      "cell_type": "code",
      "execution_count": 9,
      "metadata": {
        "id": "qB-SI7VIksuk"
      },
      "outputs": [],
      "source": [
        "# fetch all the header of that tabel"
      ]
    },
    {
      "cell_type": "code",
      "execution_count": 10,
      "metadata": {
        "id": "qshdeTrmlnPr"
      },
      "outputs": [],
      "source": [
        "# convert that header into list"
      ]
    },
    {
      "cell_type": "code",
      "execution_count": 11,
      "metadata": {
        "id": "-_KXjUO_luzS"
      },
      "outputs": [],
      "source": [
        "# Remove unwanted header from that list"
      ]
    },
    {
      "cell_type": "code",
      "execution_count": 12,
      "metadata": {
        "id": "iAHOCqQHo3Ep"
      },
      "outputs": [],
      "source": [
        "# convert list into dataframe"
      ]
    },
    {
      "cell_type": "code",
      "execution_count": 13,
      "metadata": {
        "id": "N-pOiFrtpYqG"
      },
      "outputs": [],
      "source": [
        "# Append the content of that header into dataframe by targeting all table row"
      ]
    },
    {
      "cell_type": "code",
      "execution_count": 14,
      "metadata": {
        "id": "Df97PqoFrFKS"
      },
      "outputs": [],
      "source": [
        "# Now Append the table data to the dataframe"
      ]
    },
    {
      "cell_type": "code",
      "execution_count": 15,
      "metadata": {
        "id": "LmtZRFxFrKaB"
      },
      "outputs": [],
      "source": [
        "# Download the dataframe as csv"
      ]
    }
  ],
  "metadata": {
    "colab": {
      "provenance": []
    },
    "kernelspec": {
      "display_name": "Python 3",
      "name": "python3"
    },
    "language_info": {
      "codemirror_mode": {
        "name": "ipython",
        "version": 3
      },
      "file_extension": ".py",
      "mimetype": "text/x-python",
      "name": "python",
      "nbconvert_exporter": "python",
      "pygments_lexer": "ipython3",
      "version": "3.13.1"
    }
  },
  "nbformat": 4,
  "nbformat_minor": 0
}
